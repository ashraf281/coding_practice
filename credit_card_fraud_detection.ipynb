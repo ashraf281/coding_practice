{
  "nbformat": 4,
  "nbformat_minor": 0,
  "metadata": {
    "colab": {
      "name": "credit card fraud detection.ipynb",
      "provenance": [],
      "authorship_tag": "ABX9TyOQj1rARM6EduxkqKPQke92",
      "include_colab_link": true
    },
    "kernelspec": {
      "name": "python3",
      "display_name": "Python 3"
    },
    "language_info": {
      "name": "python"
    }
  },
  "cells": [
    {
      "cell_type": "markdown",
      "metadata": {
        "id": "view-in-github",
        "colab_type": "text"
      },
      "source": [
        "<a href=\"https://colab.research.google.com/github/ashraf281/coding_practice/blob/master/credit_card_fraud_detection.ipynb\" target=\"_parent\"><img src=\"https://colab.research.google.com/assets/colab-badge.svg\" alt=\"Open In Colab\"/></a>"
      ]
    },
    {
      "cell_type": "markdown",
      "metadata": {
        "id": "qrhltljT4amE"
      },
      "source": [
        ""
      ]
    },
    {
      "cell_type": "markdown",
      "metadata": {
        "id": "cd8QNzYc4c7N"
      },
      "source": [
        "importing the important libraries"
      ]
    },
    {
      "cell_type": "code",
      "metadata": {
        "id": "qXHZoqZF1xtl"
      },
      "source": [
        "import numpy as np\n",
        "import pandas as pd\n",
        "from sklearn.model_selection import train_test_split\n",
        "from sklearn.linear_model import LogisticRegression\n",
        "from sklearn.metrics import accuracy_score"
      ],
      "execution_count": 1,
      "outputs": []
    },
    {
      "cell_type": "code",
      "metadata": {
        "id": "UMunx1yQ52hC"
      },
      "source": [
        "#Loading data set pandas dataframe\n",
        "credit_card_data = pd.read_csv('/content/creditcard.csv')"
      ],
      "execution_count": 2,
      "outputs": []
    },
    {
      "cell_type": "code",
      "metadata": {
        "colab": {
          "base_uri": "https://localhost:8080/",
          "height": 223
        },
        "id": "2BYigqvA6or2",
        "outputId": "6f526dea-de84-4d05-e9e1-755ce269f030"
      },
      "source": [
        "#first five rows of the data\n",
        "credit_card_data.head()"
      ],
      "execution_count": 3,
      "outputs": [
        {
          "output_type": "execute_result",
          "data": {
            "text/html": [
              "<div>\n",
              "<style scoped>\n",
              "    .dataframe tbody tr th:only-of-type {\n",
              "        vertical-align: middle;\n",
              "    }\n",
              "\n",
              "    .dataframe tbody tr th {\n",
              "        vertical-align: top;\n",
              "    }\n",
              "\n",
              "    .dataframe thead th {\n",
              "        text-align: right;\n",
              "    }\n",
              "</style>\n",
              "<table border=\"1\" class=\"dataframe\">\n",
              "  <thead>\n",
              "    <tr style=\"text-align: right;\">\n",
              "      <th></th>\n",
              "      <th>Time</th>\n",
              "      <th>V1</th>\n",
              "      <th>V2</th>\n",
              "      <th>V3</th>\n",
              "      <th>V4</th>\n",
              "      <th>V5</th>\n",
              "      <th>V6</th>\n",
              "      <th>V7</th>\n",
              "      <th>V8</th>\n",
              "      <th>V9</th>\n",
              "      <th>V10</th>\n",
              "      <th>V11</th>\n",
              "      <th>V12</th>\n",
              "      <th>V13</th>\n",
              "      <th>V14</th>\n",
              "      <th>V15</th>\n",
              "      <th>V16</th>\n",
              "      <th>V17</th>\n",
              "      <th>V18</th>\n",
              "      <th>V19</th>\n",
              "      <th>V20</th>\n",
              "      <th>V21</th>\n",
              "      <th>V22</th>\n",
              "      <th>V23</th>\n",
              "      <th>V24</th>\n",
              "      <th>V25</th>\n",
              "      <th>V26</th>\n",
              "      <th>V27</th>\n",
              "      <th>V28</th>\n",
              "      <th>Amount</th>\n",
              "      <th>Class</th>\n",
              "    </tr>\n",
              "  </thead>\n",
              "  <tbody>\n",
              "    <tr>\n",
              "      <th>0</th>\n",
              "      <td>0.0</td>\n",
              "      <td>-1.359807</td>\n",
              "      <td>-0.072781</td>\n",
              "      <td>2.536347</td>\n",
              "      <td>1.378155</td>\n",
              "      <td>-0.338321</td>\n",
              "      <td>0.462388</td>\n",
              "      <td>0.239599</td>\n",
              "      <td>0.098698</td>\n",
              "      <td>0.363787</td>\n",
              "      <td>0.090794</td>\n",
              "      <td>-0.551600</td>\n",
              "      <td>-0.617801</td>\n",
              "      <td>-0.991390</td>\n",
              "      <td>-0.311169</td>\n",
              "      <td>1.468177</td>\n",
              "      <td>-0.470401</td>\n",
              "      <td>0.207971</td>\n",
              "      <td>0.025791</td>\n",
              "      <td>0.403993</td>\n",
              "      <td>0.251412</td>\n",
              "      <td>-0.018307</td>\n",
              "      <td>0.277838</td>\n",
              "      <td>-0.110474</td>\n",
              "      <td>0.066928</td>\n",
              "      <td>0.128539</td>\n",
              "      <td>-0.189115</td>\n",
              "      <td>0.133558</td>\n",
              "      <td>-0.021053</td>\n",
              "      <td>149.62</td>\n",
              "      <td>0.0</td>\n",
              "    </tr>\n",
              "    <tr>\n",
              "      <th>1</th>\n",
              "      <td>0.0</td>\n",
              "      <td>1.191857</td>\n",
              "      <td>0.266151</td>\n",
              "      <td>0.166480</td>\n",
              "      <td>0.448154</td>\n",
              "      <td>0.060018</td>\n",
              "      <td>-0.082361</td>\n",
              "      <td>-0.078803</td>\n",
              "      <td>0.085102</td>\n",
              "      <td>-0.255425</td>\n",
              "      <td>-0.166974</td>\n",
              "      <td>1.612727</td>\n",
              "      <td>1.065235</td>\n",
              "      <td>0.489095</td>\n",
              "      <td>-0.143772</td>\n",
              "      <td>0.635558</td>\n",
              "      <td>0.463917</td>\n",
              "      <td>-0.114805</td>\n",
              "      <td>-0.183361</td>\n",
              "      <td>-0.145783</td>\n",
              "      <td>-0.069083</td>\n",
              "      <td>-0.225775</td>\n",
              "      <td>-0.638672</td>\n",
              "      <td>0.101288</td>\n",
              "      <td>-0.339846</td>\n",
              "      <td>0.167170</td>\n",
              "      <td>0.125895</td>\n",
              "      <td>-0.008983</td>\n",
              "      <td>0.014724</td>\n",
              "      <td>2.69</td>\n",
              "      <td>0.0</td>\n",
              "    </tr>\n",
              "    <tr>\n",
              "      <th>2</th>\n",
              "      <td>1.0</td>\n",
              "      <td>-1.358354</td>\n",
              "      <td>-1.340163</td>\n",
              "      <td>1.773209</td>\n",
              "      <td>0.379780</td>\n",
              "      <td>-0.503198</td>\n",
              "      <td>1.800499</td>\n",
              "      <td>0.791461</td>\n",
              "      <td>0.247676</td>\n",
              "      <td>-1.514654</td>\n",
              "      <td>0.207643</td>\n",
              "      <td>0.624501</td>\n",
              "      <td>0.066084</td>\n",
              "      <td>0.717293</td>\n",
              "      <td>-0.165946</td>\n",
              "      <td>2.345865</td>\n",
              "      <td>-2.890083</td>\n",
              "      <td>1.109969</td>\n",
              "      <td>-0.121359</td>\n",
              "      <td>-2.261857</td>\n",
              "      <td>0.524980</td>\n",
              "      <td>0.247998</td>\n",
              "      <td>0.771679</td>\n",
              "      <td>0.909412</td>\n",
              "      <td>-0.689281</td>\n",
              "      <td>-0.327642</td>\n",
              "      <td>-0.139097</td>\n",
              "      <td>-0.055353</td>\n",
              "      <td>-0.059752</td>\n",
              "      <td>378.66</td>\n",
              "      <td>0.0</td>\n",
              "    </tr>\n",
              "    <tr>\n",
              "      <th>3</th>\n",
              "      <td>1.0</td>\n",
              "      <td>-0.966272</td>\n",
              "      <td>-0.185226</td>\n",
              "      <td>1.792993</td>\n",
              "      <td>-0.863291</td>\n",
              "      <td>-0.010309</td>\n",
              "      <td>1.247203</td>\n",
              "      <td>0.237609</td>\n",
              "      <td>0.377436</td>\n",
              "      <td>-1.387024</td>\n",
              "      <td>-0.054952</td>\n",
              "      <td>-0.226487</td>\n",
              "      <td>0.178228</td>\n",
              "      <td>0.507757</td>\n",
              "      <td>-0.287924</td>\n",
              "      <td>-0.631418</td>\n",
              "      <td>-1.059647</td>\n",
              "      <td>-0.684093</td>\n",
              "      <td>1.965775</td>\n",
              "      <td>-1.232622</td>\n",
              "      <td>-0.208038</td>\n",
              "      <td>-0.108300</td>\n",
              "      <td>0.005274</td>\n",
              "      <td>-0.190321</td>\n",
              "      <td>-1.175575</td>\n",
              "      <td>0.647376</td>\n",
              "      <td>-0.221929</td>\n",
              "      <td>0.062723</td>\n",
              "      <td>0.061458</td>\n",
              "      <td>123.50</td>\n",
              "      <td>0.0</td>\n",
              "    </tr>\n",
              "    <tr>\n",
              "      <th>4</th>\n",
              "      <td>2.0</td>\n",
              "      <td>-1.158233</td>\n",
              "      <td>0.877737</td>\n",
              "      <td>1.548718</td>\n",
              "      <td>0.403034</td>\n",
              "      <td>-0.407193</td>\n",
              "      <td>0.095921</td>\n",
              "      <td>0.592941</td>\n",
              "      <td>-0.270533</td>\n",
              "      <td>0.817739</td>\n",
              "      <td>0.753074</td>\n",
              "      <td>-0.822843</td>\n",
              "      <td>0.538196</td>\n",
              "      <td>1.345852</td>\n",
              "      <td>-1.119670</td>\n",
              "      <td>0.175121</td>\n",
              "      <td>-0.451449</td>\n",
              "      <td>-0.237033</td>\n",
              "      <td>-0.038195</td>\n",
              "      <td>0.803487</td>\n",
              "      <td>0.408542</td>\n",
              "      <td>-0.009431</td>\n",
              "      <td>0.798278</td>\n",
              "      <td>-0.137458</td>\n",
              "      <td>0.141267</td>\n",
              "      <td>-0.206010</td>\n",
              "      <td>0.502292</td>\n",
              "      <td>0.219422</td>\n",
              "      <td>0.215153</td>\n",
              "      <td>69.99</td>\n",
              "      <td>0.0</td>\n",
              "    </tr>\n",
              "  </tbody>\n",
              "</table>\n",
              "</div>"
            ],
            "text/plain": [
              "   Time        V1        V2        V3  ...       V27       V28  Amount  Class\n",
              "0   0.0 -1.359807 -0.072781  2.536347  ...  0.133558 -0.021053  149.62    0.0\n",
              "1   0.0  1.191857  0.266151  0.166480  ... -0.008983  0.014724    2.69    0.0\n",
              "2   1.0 -1.358354 -1.340163  1.773209  ... -0.055353 -0.059752  378.66    0.0\n",
              "3   1.0 -0.966272 -0.185226  1.792993  ...  0.062723  0.061458  123.50    0.0\n",
              "4   2.0 -1.158233  0.877737  1.548718  ...  0.219422  0.215153   69.99    0.0\n",
              "\n",
              "[5 rows x 31 columns]"
            ]
          },
          "metadata": {
            "tags": []
          },
          "execution_count": 3
        }
      ]
    },
    {
      "cell_type": "code",
      "metadata": {
        "colab": {
          "base_uri": "https://localhost:8080/",
          "height": 223
        },
        "id": "u-q5V3IT7l57",
        "outputId": "08b5c79c-453c-427d-9139-7377ca8bd5ea"
      },
      "source": [
        "credit_card_data.tail()"
      ],
      "execution_count": 4,
      "outputs": [
        {
          "output_type": "execute_result",
          "data": {
            "text/html": [
              "<div>\n",
              "<style scoped>\n",
              "    .dataframe tbody tr th:only-of-type {\n",
              "        vertical-align: middle;\n",
              "    }\n",
              "\n",
              "    .dataframe tbody tr th {\n",
              "        vertical-align: top;\n",
              "    }\n",
              "\n",
              "    .dataframe thead th {\n",
              "        text-align: right;\n",
              "    }\n",
              "</style>\n",
              "<table border=\"1\" class=\"dataframe\">\n",
              "  <thead>\n",
              "    <tr style=\"text-align: right;\">\n",
              "      <th></th>\n",
              "      <th>Time</th>\n",
              "      <th>V1</th>\n",
              "      <th>V2</th>\n",
              "      <th>V3</th>\n",
              "      <th>V4</th>\n",
              "      <th>V5</th>\n",
              "      <th>V6</th>\n",
              "      <th>V7</th>\n",
              "      <th>V8</th>\n",
              "      <th>V9</th>\n",
              "      <th>V10</th>\n",
              "      <th>V11</th>\n",
              "      <th>V12</th>\n",
              "      <th>V13</th>\n",
              "      <th>V14</th>\n",
              "      <th>V15</th>\n",
              "      <th>V16</th>\n",
              "      <th>V17</th>\n",
              "      <th>V18</th>\n",
              "      <th>V19</th>\n",
              "      <th>V20</th>\n",
              "      <th>V21</th>\n",
              "      <th>V22</th>\n",
              "      <th>V23</th>\n",
              "      <th>V24</th>\n",
              "      <th>V25</th>\n",
              "      <th>V26</th>\n",
              "      <th>V27</th>\n",
              "      <th>V28</th>\n",
              "      <th>Amount</th>\n",
              "      <th>Class</th>\n",
              "    </tr>\n",
              "  </thead>\n",
              "  <tbody>\n",
              "    <tr>\n",
              "      <th>204076</th>\n",
              "      <td>135100.0</td>\n",
              "      <td>2.126725</td>\n",
              "      <td>-0.105402</td>\n",
              "      <td>-1.510722</td>\n",
              "      <td>0.165252</td>\n",
              "      <td>0.376540</td>\n",
              "      <td>-0.534798</td>\n",
              "      <td>0.131359</td>\n",
              "      <td>-0.228139</td>\n",
              "      <td>0.648901</td>\n",
              "      <td>0.073445</td>\n",
              "      <td>-1.670065</td>\n",
              "      <td>-0.017612</td>\n",
              "      <td>-0.001079</td>\n",
              "      <td>0.266968</td>\n",
              "      <td>0.190938</td>\n",
              "      <td>0.153467</td>\n",
              "      <td>-0.598811</td>\n",
              "      <td>-0.586448</td>\n",
              "      <td>0.470955</td>\n",
              "      <td>-0.212019</td>\n",
              "      <td>-0.355017</td>\n",
              "      <td>-0.888680</td>\n",
              "      <td>0.220120</td>\n",
              "      <td>-1.069895</td>\n",
              "      <td>-0.181889</td>\n",
              "      <td>0.266874</td>\n",
              "      <td>-0.070569</td>\n",
              "      <td>-0.071622</td>\n",
              "      <td>1.98</td>\n",
              "      <td>0.0</td>\n",
              "    </tr>\n",
              "    <tr>\n",
              "      <th>204077</th>\n",
              "      <td>135100.0</td>\n",
              "      <td>-0.582696</td>\n",
              "      <td>2.109869</td>\n",
              "      <td>0.699058</td>\n",
              "      <td>4.350850</td>\n",
              "      <td>0.524572</td>\n",
              "      <td>0.436313</td>\n",
              "      <td>0.671204</td>\n",
              "      <td>0.087439</td>\n",
              "      <td>-1.980439</td>\n",
              "      <td>1.964617</td>\n",
              "      <td>-0.702628</td>\n",
              "      <td>-0.104592</td>\n",
              "      <td>0.832761</td>\n",
              "      <td>0.211290</td>\n",
              "      <td>0.266410</td>\n",
              "      <td>-0.461024</td>\n",
              "      <td>0.351913</td>\n",
              "      <td>-0.505442</td>\n",
              "      <td>1.231206</td>\n",
              "      <td>0.244790</td>\n",
              "      <td>-0.131965</td>\n",
              "      <td>-0.288737</td>\n",
              "      <td>0.194044</td>\n",
              "      <td>1.115286</td>\n",
              "      <td>-0.979408</td>\n",
              "      <td>-0.089576</td>\n",
              "      <td>-0.227109</td>\n",
              "      <td>0.015287</td>\n",
              "      <td>13.26</td>\n",
              "      <td>0.0</td>\n",
              "    </tr>\n",
              "    <tr>\n",
              "      <th>204078</th>\n",
              "      <td>135101.0</td>\n",
              "      <td>1.988614</td>\n",
              "      <td>-0.207240</td>\n",
              "      <td>-0.259236</td>\n",
              "      <td>0.440332</td>\n",
              "      <td>-0.592331</td>\n",
              "      <td>-0.694481</td>\n",
              "      <td>-0.372261</td>\n",
              "      <td>-0.152909</td>\n",
              "      <td>1.108784</td>\n",
              "      <td>-0.196439</td>\n",
              "      <td>-0.667581</td>\n",
              "      <td>1.124692</td>\n",
              "      <td>1.261786</td>\n",
              "      <td>-0.269929</td>\n",
              "      <td>0.528522</td>\n",
              "      <td>0.155249</td>\n",
              "      <td>-0.630357</td>\n",
              "      <td>-0.317813</td>\n",
              "      <td>-0.060590</td>\n",
              "      <td>-0.151209</td>\n",
              "      <td>-0.170658</td>\n",
              "      <td>-0.280954</td>\n",
              "      <td>0.351013</td>\n",
              "      <td>-0.037285</td>\n",
              "      <td>-0.381279</td>\n",
              "      <td>-0.624344</td>\n",
              "      <td>0.042626</td>\n",
              "      <td>-0.028725</td>\n",
              "      <td>7.47</td>\n",
              "      <td>0.0</td>\n",
              "    </tr>\n",
              "    <tr>\n",
              "      <th>204079</th>\n",
              "      <td>135102.0</td>\n",
              "      <td>1.862102</td>\n",
              "      <td>-0.124052</td>\n",
              "      <td>-1.989752</td>\n",
              "      <td>0.382609</td>\n",
              "      <td>0.473032</td>\n",
              "      <td>-0.674517</td>\n",
              "      <td>0.298621</td>\n",
              "      <td>-0.282416</td>\n",
              "      <td>0.802053</td>\n",
              "      <td>-0.989431</td>\n",
              "      <td>-0.491112</td>\n",
              "      <td>0.903819</td>\n",
              "      <td>1.366524</td>\n",
              "      <td>-1.886162</td>\n",
              "      <td>-0.194861</td>\n",
              "      <td>0.086837</td>\n",
              "      <td>0.978546</td>\n",
              "      <td>0.055604</td>\n",
              "      <td>0.189131</td>\n",
              "      <td>0.150727</td>\n",
              "      <td>-0.204158</td>\n",
              "      <td>-0.511441</td>\n",
              "      <td>0.077874</td>\n",
              "      <td>0.388335</td>\n",
              "      <td>0.007896</td>\n",
              "      <td>-0.120980</td>\n",
              "      <td>-0.019579</td>\n",
              "      <td>0.006155</td>\n",
              "      <td>108.51</td>\n",
              "      <td>1.0</td>\n",
              "    </tr>\n",
              "    <tr>\n",
              "      <th>204080</th>\n",
              "      <td>135102.0</td>\n",
              "      <td>0.245859</td>\n",
              "      <td>0.925437</td>\n",
              "      <td>-0.542877</td>\n",
              "      <td>-0.891049</td>\n",
              "      <td>1.585514</td>\n",
              "      <td>0.074328</td>\n",
              "      <td>1.095022</td>\n",
              "      <td>-0.146891</td>\n",
              "      <td>-0.213699</td>\n",
              "      <td>-0.482183</td>\n",
              "      <td>0.500000</td>\n",
              "      <td>NaN</td>\n",
              "      <td>NaN</td>\n",
              "      <td>NaN</td>\n",
              "      <td>NaN</td>\n",
              "      <td>NaN</td>\n",
              "      <td>NaN</td>\n",
              "      <td>NaN</td>\n",
              "      <td>NaN</td>\n",
              "      <td>NaN</td>\n",
              "      <td>NaN</td>\n",
              "      <td>NaN</td>\n",
              "      <td>NaN</td>\n",
              "      <td>NaN</td>\n",
              "      <td>NaN</td>\n",
              "      <td>NaN</td>\n",
              "      <td>NaN</td>\n",
              "      <td>NaN</td>\n",
              "      <td>NaN</td>\n",
              "      <td>NaN</td>\n",
              "    </tr>\n",
              "  </tbody>\n",
              "</table>\n",
              "</div>"
            ],
            "text/plain": [
              "            Time        V1        V2  ...       V28  Amount  Class\n",
              "204076  135100.0  2.126725 -0.105402  ... -0.071622    1.98    0.0\n",
              "204077  135100.0 -0.582696  2.109869  ...  0.015287   13.26    0.0\n",
              "204078  135101.0  1.988614 -0.207240  ... -0.028725    7.47    0.0\n",
              "204079  135102.0  1.862102 -0.124052  ...  0.006155  108.51    1.0\n",
              "204080  135102.0  0.245859  0.925437  ...       NaN     NaN    NaN\n",
              "\n",
              "[5 rows x 31 columns]"
            ]
          },
          "metadata": {
            "tags": []
          },
          "execution_count": 4
        }
      ]
    },
    {
      "cell_type": "code",
      "metadata": {
        "colab": {
          "base_uri": "https://localhost:8080/"
        },
        "id": "-AHj_tHf8WtK",
        "outputId": "292389e2-6444-41bb-f967-ed80c1be3a6b"
      },
      "source": [
        "#dataset information\n",
        "credit_card_data.info()"
      ],
      "execution_count": 5,
      "outputs": [
        {
          "output_type": "stream",
          "text": [
            "<class 'pandas.core.frame.DataFrame'>\n",
            "RangeIndex: 204081 entries, 0 to 204080\n",
            "Data columns (total 31 columns):\n",
            " #   Column  Non-Null Count   Dtype  \n",
            "---  ------  --------------   -----  \n",
            " 0   Time    204081 non-null  float64\n",
            " 1   V1      204081 non-null  float64\n",
            " 2   V2      204081 non-null  float64\n",
            " 3   V3      204081 non-null  float64\n",
            " 4   V4      204081 non-null  float64\n",
            " 5   V5      204081 non-null  float64\n",
            " 6   V6      204081 non-null  float64\n",
            " 7   V7      204081 non-null  float64\n",
            " 8   V8      204081 non-null  float64\n",
            " 9   V9      204081 non-null  float64\n",
            " 10  V10     204081 non-null  float64\n",
            " 11  V11     204081 non-null  float64\n",
            " 12  V12     204080 non-null  float64\n",
            " 13  V13     204080 non-null  float64\n",
            " 14  V14     204080 non-null  float64\n",
            " 15  V15     204080 non-null  float64\n",
            " 16  V16     204080 non-null  float64\n",
            " 17  V17     204080 non-null  float64\n",
            " 18  V18     204080 non-null  float64\n",
            " 19  V19     204080 non-null  float64\n",
            " 20  V20     204080 non-null  float64\n",
            " 21  V21     204080 non-null  float64\n",
            " 22  V22     204080 non-null  float64\n",
            " 23  V23     204080 non-null  float64\n",
            " 24  V24     204080 non-null  float64\n",
            " 25  V25     204080 non-null  float64\n",
            " 26  V26     204080 non-null  float64\n",
            " 27  V27     204080 non-null  float64\n",
            " 28  V28     204080 non-null  float64\n",
            " 29  Amount  204080 non-null  float64\n",
            " 30  Class   204080 non-null  float64\n",
            "dtypes: float64(31)\n",
            "memory usage: 48.3 MB\n"
          ],
          "name": "stdout"
        }
      ]
    },
    {
      "cell_type": "code",
      "metadata": {
        "colab": {
          "base_uri": "https://localhost:8080/"
        },
        "id": "A-lnHnj58p0Q",
        "outputId": "f4b10d16-d7d1-42ce-aebf-6d03b9a92b5d"
      },
      "source": [
        "#checking the number of missing value in each column\n",
        "credit_card_data.isnull().sum()"
      ],
      "execution_count": 6,
      "outputs": [
        {
          "output_type": "execute_result",
          "data": {
            "text/plain": [
              "Time      0\n",
              "V1        0\n",
              "V2        0\n",
              "V3        0\n",
              "V4        0\n",
              "V5        0\n",
              "V6        0\n",
              "V7        0\n",
              "V8        0\n",
              "V9        0\n",
              "V10       0\n",
              "V11       0\n",
              "V12       1\n",
              "V13       1\n",
              "V14       1\n",
              "V15       1\n",
              "V16       1\n",
              "V17       1\n",
              "V18       1\n",
              "V19       1\n",
              "V20       1\n",
              "V21       1\n",
              "V22       1\n",
              "V23       1\n",
              "V24       1\n",
              "V25       1\n",
              "V26       1\n",
              "V27       1\n",
              "V28       1\n",
              "Amount    1\n",
              "Class     1\n",
              "dtype: int64"
            ]
          },
          "metadata": {
            "tags": []
          },
          "execution_count": 6
        }
      ]
    },
    {
      "cell_type": "code",
      "metadata": {
        "id": "Lanf3SHF9Ozb"
      },
      "source": [
        "credit_card_data = credit_card_data.dropna(how ='any')"
      ],
      "execution_count": 8,
      "outputs": []
    },
    {
      "cell_type": "code",
      "metadata": {
        "colab": {
          "base_uri": "https://localhost:8080/"
        },
        "id": "wQuQXsdwERHj",
        "outputId": "f1e4d571-ed68-4fc7-9e22-1e72d819f6e2"
      },
      "source": [
        "credit_card_data.isnull().sum()"
      ],
      "execution_count": 9,
      "outputs": [
        {
          "output_type": "execute_result",
          "data": {
            "text/plain": [
              "Time      0\n",
              "V1        0\n",
              "V2        0\n",
              "V3        0\n",
              "V4        0\n",
              "V5        0\n",
              "V6        0\n",
              "V7        0\n",
              "V8        0\n",
              "V9        0\n",
              "V10       0\n",
              "V11       0\n",
              "V12       0\n",
              "V13       0\n",
              "V14       0\n",
              "V15       0\n",
              "V16       0\n",
              "V17       0\n",
              "V18       0\n",
              "V19       0\n",
              "V20       0\n",
              "V21       0\n",
              "V22       0\n",
              "V23       0\n",
              "V24       0\n",
              "V25       0\n",
              "V26       0\n",
              "V27       0\n",
              "V28       0\n",
              "Amount    0\n",
              "Class     0\n",
              "dtype: int64"
            ]
          },
          "metadata": {
            "tags": []
          },
          "execution_count": 9
        }
      ]
    },
    {
      "cell_type": "code",
      "metadata": {
        "colab": {
          "base_uri": "https://localhost:8080/"
        },
        "id": "eNGp-1YeFWPw",
        "outputId": "894b02ae-7d5d-4229-e6c0-b8e2aa868502"
      },
      "source": [
        "#distribution of legit transactions& fraudlent transaction\n",
        "credit_card_data['Class'].value_counts()"
      ],
      "execution_count": 11,
      "outputs": [
        {
          "output_type": "execute_result",
          "data": {
            "text/plain": [
              "0.0    203688\n",
              "1.0       392\n",
              "Name: Class, dtype: int64"
            ]
          },
          "metadata": {
            "tags": []
          },
          "execution_count": 11
        }
      ]
    },
    {
      "cell_type": "code",
      "metadata": {
        "id": "UCTjHAD7F6QS"
      },
      "source": [
        ""
      ],
      "execution_count": null,
      "outputs": []
    },
    {
      "cell_type": "markdown",
      "metadata": {
        "id": "drWj-CsgGmAD"
      },
      "source": [
        "This dataset is highly unbalanced\n",
        "0--> legit transaction\n",
        "1-->fraudulent transaction"
      ]
    },
    {
      "cell_type": "code",
      "metadata": {
        "id": "9fG1_SXQGxUw"
      },
      "source": [
        "#seperating the data for analysis\n",
        "legit =credit_card_data[credit_card_data.Class==0]\n",
        "fraud= credit_card_data[credit_card_data.Class==1]"
      ],
      "execution_count": 12,
      "outputs": []
    },
    {
      "cell_type": "code",
      "metadata": {
        "colab": {
          "base_uri": "https://localhost:8080/"
        },
        "id": "aGTgIaw7Hfbw",
        "outputId": "62e3dc8e-eb30-40ba-c151-f9d273d8e514"
      },
      "source": [
        "print(legit.shape)\n",
        "print(fraud.shape)"
      ],
      "execution_count": 13,
      "outputs": [
        {
          "output_type": "stream",
          "text": [
            "(203688, 31)\n",
            "(392, 31)\n"
          ],
          "name": "stdout"
        }
      ]
    },
    {
      "cell_type": "code",
      "metadata": {
        "colab": {
          "base_uri": "https://localhost:8080/"
        },
        "id": "5DsR1yPuHrCG",
        "outputId": "98b247c4-09ce-4661-c2ca-05068799f6f7"
      },
      "source": [
        "#statistical measure\n",
        "legit.Amount.describe()"
      ],
      "execution_count": 15,
      "outputs": [
        {
          "output_type": "execute_result",
          "data": {
            "text/plain": [
              "count    203688.000000\n",
              "mean         89.698841\n",
              "std         248.388033\n",
              "min           0.000000\n",
              "25%           5.990000\n",
              "50%          23.000000\n",
              "75%          79.190000\n",
              "max       19656.530000\n",
              "Name: Amount, dtype: float64"
            ]
          },
          "metadata": {
            "tags": []
          },
          "execution_count": 15
        }
      ]
    },
    {
      "cell_type": "code",
      "metadata": {
        "colab": {
          "base_uri": "https://localhost:8080/"
        },
        "id": "PcwDACVPIVNb",
        "outputId": "1df1c21f-e9be-4ff0-845f-022b203d2acc"
      },
      "source": [
        "fraud.Amount.describe()"
      ],
      "execution_count": 16,
      "outputs": [
        {
          "output_type": "execute_result",
          "data": {
            "text/plain": [
              "count     392.000000\n",
              "mean      123.485765\n",
              "std       257.455297\n",
              "min         0.000000\n",
              "25%         1.000000\n",
              "50%        12.310000\n",
              "75%       105.915000\n",
              "max      2125.870000\n",
              "Name: Amount, dtype: float64"
            ]
          },
          "metadata": {
            "tags": []
          },
          "execution_count": 16
        }
      ]
    },
    {
      "cell_type": "code",
      "metadata": {
        "colab": {
          "base_uri": "https://localhost:8080/",
          "height": 162
        },
        "id": "q0Dwx-4oIqwn",
        "outputId": "94290f9f-9075-4a41-aeb3-d812e1ba4741"
      },
      "source": [
        "#compare the value for both transaction\n",
        "credit_card_data.groupby('Class').mean()"
      ],
      "execution_count": 17,
      "outputs": [
        {
          "output_type": "execute_result",
          "data": {
            "text/html": [
              "<div>\n",
              "<style scoped>\n",
              "    .dataframe tbody tr th:only-of-type {\n",
              "        vertical-align: middle;\n",
              "    }\n",
              "\n",
              "    .dataframe tbody tr th {\n",
              "        vertical-align: top;\n",
              "    }\n",
              "\n",
              "    .dataframe thead th {\n",
              "        text-align: right;\n",
              "    }\n",
              "</style>\n",
              "<table border=\"1\" class=\"dataframe\">\n",
              "  <thead>\n",
              "    <tr style=\"text-align: right;\">\n",
              "      <th></th>\n",
              "      <th>Time</th>\n",
              "      <th>V1</th>\n",
              "      <th>V2</th>\n",
              "      <th>V3</th>\n",
              "      <th>V4</th>\n",
              "      <th>V5</th>\n",
              "      <th>V6</th>\n",
              "      <th>V7</th>\n",
              "      <th>V8</th>\n",
              "      <th>V9</th>\n",
              "      <th>V10</th>\n",
              "      <th>V11</th>\n",
              "      <th>V12</th>\n",
              "      <th>V13</th>\n",
              "      <th>V14</th>\n",
              "      <th>V15</th>\n",
              "      <th>V16</th>\n",
              "      <th>V17</th>\n",
              "      <th>V18</th>\n",
              "      <th>V19</th>\n",
              "      <th>V20</th>\n",
              "      <th>V21</th>\n",
              "      <th>V22</th>\n",
              "      <th>V23</th>\n",
              "      <th>V24</th>\n",
              "      <th>V25</th>\n",
              "      <th>V26</th>\n",
              "      <th>V27</th>\n",
              "      <th>V28</th>\n",
              "      <th>Amount</th>\n",
              "    </tr>\n",
              "    <tr>\n",
              "      <th>Class</th>\n",
              "      <th></th>\n",
              "      <th></th>\n",
              "      <th></th>\n",
              "      <th></th>\n",
              "      <th></th>\n",
              "      <th></th>\n",
              "      <th></th>\n",
              "      <th></th>\n",
              "      <th></th>\n",
              "      <th></th>\n",
              "      <th></th>\n",
              "      <th></th>\n",
              "      <th></th>\n",
              "      <th></th>\n",
              "      <th></th>\n",
              "      <th></th>\n",
              "      <th></th>\n",
              "      <th></th>\n",
              "      <th></th>\n",
              "      <th></th>\n",
              "      <th></th>\n",
              "      <th></th>\n",
              "      <th></th>\n",
              "      <th></th>\n",
              "      <th></th>\n",
              "      <th></th>\n",
              "      <th></th>\n",
              "      <th></th>\n",
              "      <th></th>\n",
              "      <th></th>\n",
              "    </tr>\n",
              "  </thead>\n",
              "  <tbody>\n",
              "    <tr>\n",
              "      <th>0.0</th>\n",
              "      <td>71931.358926</td>\n",
              "      <td>-0.085236</td>\n",
              "      <td>-0.006647</td>\n",
              "      <td>0.310657</td>\n",
              "      <td>0.061002</td>\n",
              "      <td>-0.094003</td>\n",
              "      <td>0.045763</td>\n",
              "      <td>-0.032985</td>\n",
              "      <td>0.012967</td>\n",
              "      <td>0.013841</td>\n",
              "      <td>0.002626</td>\n",
              "      <td>0.109534</td>\n",
              "      <td>-0.052674</td>\n",
              "      <td>0.032695</td>\n",
              "      <td>0.060614</td>\n",
              "      <td>0.078486</td>\n",
              "      <td>0.002678</td>\n",
              "      <td>0.038919</td>\n",
              "      <td>-0.028053</td>\n",
              "      <td>-0.013861</td>\n",
              "      <td>0.017287</td>\n",
              "      <td>-0.014904</td>\n",
              "      <td>-0.042991</td>\n",
              "      <td>-0.014317</td>\n",
              "      <td>0.004019</td>\n",
              "      <td>0.057168</td>\n",
              "      <td>0.005541</td>\n",
              "      <td>0.001063</td>\n",
              "      <td>0.001671</td>\n",
              "      <td>89.698841</td>\n",
              "    </tr>\n",
              "    <tr>\n",
              "      <th>1.0</th>\n",
              "      <td>62596.510204</td>\n",
              "      <td>-5.586024</td>\n",
              "      <td>4.158763</td>\n",
              "      <td>-7.671289</td>\n",
              "      <td>4.751863</td>\n",
              "      <td>-4.024293</td>\n",
              "      <td>-1.396896</td>\n",
              "      <td>-6.519177</td>\n",
              "      <td>0.663336</td>\n",
              "      <td>-2.750902</td>\n",
              "      <td>-6.307027</td>\n",
              "      <td>4.138086</td>\n",
              "      <td>-6.886016</td>\n",
              "      <td>-0.025374</td>\n",
              "      <td>-7.140525</td>\n",
              "      <td>-0.087760</td>\n",
              "      <td>-4.661489</td>\n",
              "      <td>-7.628649</td>\n",
              "      <td>-2.666997</td>\n",
              "      <td>0.770997</td>\n",
              "      <td>0.395749</td>\n",
              "      <td>0.777634</td>\n",
              "      <td>-0.016690</td>\n",
              "      <td>-0.047536</td>\n",
              "      <td>-0.065304</td>\n",
              "      <td>0.066588</td>\n",
              "      <td>0.038878</td>\n",
              "      <td>0.181626</td>\n",
              "      <td>0.059742</td>\n",
              "      <td>123.485765</td>\n",
              "    </tr>\n",
              "  </tbody>\n",
              "</table>\n",
              "</div>"
            ],
            "text/plain": [
              "               Time        V1        V2  ...       V27       V28      Amount\n",
              "Class                                    ...                                \n",
              "0.0    71931.358926 -0.085236 -0.006647  ...  0.001063  0.001671   89.698841\n",
              "1.0    62596.510204 -5.586024  4.158763  ...  0.181626  0.059742  123.485765\n",
              "\n",
              "[2 rows x 30 columns]"
            ]
          },
          "metadata": {
            "tags": []
          },
          "execution_count": 17
        }
      ]
    },
    {
      "cell_type": "code",
      "metadata": {
        "id": "y5DAGWGLJZyX"
      },
      "source": [
        ""
      ],
      "execution_count": null,
      "outputs": []
    },
    {
      "cell_type": "markdown",
      "metadata": {
        "id": "X286672WKIf6"
      },
      "source": [
        "Under- sampling"
      ]
    },
    {
      "cell_type": "code",
      "metadata": {
        "id": "s0pDy5JDKLmn"
      },
      "source": [
        ""
      ],
      "execution_count": null,
      "outputs": []
    },
    {
      "cell_type": "markdown",
      "metadata": {
        "id": "QOKVR4UcKMTS"
      },
      "source": [
        "Building a sample dataset containing similar distribution of legit and fraudulent transaction\n",
        "Number of fraudulent transaction -->392"
      ]
    },
    {
      "cell_type": "code",
      "metadata": {
        "id": "ssiC77uQKYQ2"
      },
      "source": [
        "legit_sample =legit.sample(n=392)"
      ],
      "execution_count": 18,
      "outputs": []
    },
    {
      "cell_type": "markdown",
      "metadata": {
        "id": "KECJTQ17LOvy"
      },
      "source": [
        "concatenating two dataframes one is legit and other fraud"
      ]
    },
    {
      "cell_type": "code",
      "metadata": {
        "id": "JzNK3PrHLVC5"
      },
      "source": [
        "new_dataset =pd.concat([legit_sample, fraud],axis=0)"
      ],
      "execution_count": 19,
      "outputs": []
    },
    {
      "cell_type": "code",
      "metadata": {
        "colab": {
          "base_uri": "https://localhost:8080/",
          "height": 223
        },
        "id": "gnNVeK66L6F1",
        "outputId": "87644946-2e55-4684-d355-8a3a0cf19cb9"
      },
      "source": [
        "new_dataset.head()"
      ],
      "execution_count": 20,
      "outputs": [
        {
          "output_type": "execute_result",
          "data": {
            "text/html": [
              "<div>\n",
              "<style scoped>\n",
              "    .dataframe tbody tr th:only-of-type {\n",
              "        vertical-align: middle;\n",
              "    }\n",
              "\n",
              "    .dataframe tbody tr th {\n",
              "        vertical-align: top;\n",
              "    }\n",
              "\n",
              "    .dataframe thead th {\n",
              "        text-align: right;\n",
              "    }\n",
              "</style>\n",
              "<table border=\"1\" class=\"dataframe\">\n",
              "  <thead>\n",
              "    <tr style=\"text-align: right;\">\n",
              "      <th></th>\n",
              "      <th>Time</th>\n",
              "      <th>V1</th>\n",
              "      <th>V2</th>\n",
              "      <th>V3</th>\n",
              "      <th>V4</th>\n",
              "      <th>V5</th>\n",
              "      <th>V6</th>\n",
              "      <th>V7</th>\n",
              "      <th>V8</th>\n",
              "      <th>V9</th>\n",
              "      <th>V10</th>\n",
              "      <th>V11</th>\n",
              "      <th>V12</th>\n",
              "      <th>V13</th>\n",
              "      <th>V14</th>\n",
              "      <th>V15</th>\n",
              "      <th>V16</th>\n",
              "      <th>V17</th>\n",
              "      <th>V18</th>\n",
              "      <th>V19</th>\n",
              "      <th>V20</th>\n",
              "      <th>V21</th>\n",
              "      <th>V22</th>\n",
              "      <th>V23</th>\n",
              "      <th>V24</th>\n",
              "      <th>V25</th>\n",
              "      <th>V26</th>\n",
              "      <th>V27</th>\n",
              "      <th>V28</th>\n",
              "      <th>Amount</th>\n",
              "      <th>Class</th>\n",
              "    </tr>\n",
              "  </thead>\n",
              "  <tbody>\n",
              "    <tr>\n",
              "      <th>126256</th>\n",
              "      <td>77969.0</td>\n",
              "      <td>1.159517</td>\n",
              "      <td>-0.592162</td>\n",
              "      <td>0.860648</td>\n",
              "      <td>-0.872201</td>\n",
              "      <td>-1.141889</td>\n",
              "      <td>-0.075896</td>\n",
              "      <td>-0.888678</td>\n",
              "      <td>0.365928</td>\n",
              "      <td>1.860072</td>\n",
              "      <td>-0.896533</td>\n",
              "      <td>1.139053</td>\n",
              "      <td>0.453704</td>\n",
              "      <td>-2.138889</td>\n",
              "      <td>0.472792</td>\n",
              "      <td>1.042585</td>\n",
              "      <td>-0.444218</td>\n",
              "      <td>-0.004294</td>\n",
              "      <td>0.479671</td>\n",
              "      <td>0.501635</td>\n",
              "      <td>-0.274083</td>\n",
              "      <td>0.043879</td>\n",
              "      <td>0.277367</td>\n",
              "      <td>0.004999</td>\n",
              "      <td>-0.012688</td>\n",
              "      <td>0.330159</td>\n",
              "      <td>-0.667488</td>\n",
              "      <td>0.093276</td>\n",
              "      <td>0.017396</td>\n",
              "      <td>1.00</td>\n",
              "      <td>0.0</td>\n",
              "    </tr>\n",
              "    <tr>\n",
              "      <th>128717</th>\n",
              "      <td>78810.0</td>\n",
              "      <td>-0.549236</td>\n",
              "      <td>-0.285172</td>\n",
              "      <td>2.524799</td>\n",
              "      <td>-0.665580</td>\n",
              "      <td>-2.078369</td>\n",
              "      <td>0.718987</td>\n",
              "      <td>-0.366050</td>\n",
              "      <td>0.129721</td>\n",
              "      <td>0.296546</td>\n",
              "      <td>-0.055151</td>\n",
              "      <td>-1.638384</td>\n",
              "      <td>0.408089</td>\n",
              "      <td>0.633900</td>\n",
              "      <td>-1.607951</td>\n",
              "      <td>-1.945650</td>\n",
              "      <td>-2.074604</td>\n",
              "      <td>0.673158</td>\n",
              "      <td>0.915813</td>\n",
              "      <td>0.004349</td>\n",
              "      <td>-0.512321</td>\n",
              "      <td>-0.350465</td>\n",
              "      <td>-0.039856</td>\n",
              "      <td>-0.012531</td>\n",
              "      <td>0.471459</td>\n",
              "      <td>-0.696644</td>\n",
              "      <td>0.999044</td>\n",
              "      <td>-0.026068</td>\n",
              "      <td>0.117558</td>\n",
              "      <td>112.15</td>\n",
              "      <td>0.0</td>\n",
              "    </tr>\n",
              "    <tr>\n",
              "      <th>111830</th>\n",
              "      <td>72387.0</td>\n",
              "      <td>1.237763</td>\n",
              "      <td>0.269825</td>\n",
              "      <td>0.182247</td>\n",
              "      <td>0.503449</td>\n",
              "      <td>-0.187094</td>\n",
              "      <td>-0.569858</td>\n",
              "      <td>-0.050221</td>\n",
              "      <td>-0.013760</td>\n",
              "      <td>-0.146682</td>\n",
              "      <td>-0.101725</td>\n",
              "      <td>1.273665</td>\n",
              "      <td>0.611827</td>\n",
              "      <td>-0.183881</td>\n",
              "      <td>-0.034671</td>\n",
              "      <td>0.459365</td>\n",
              "      <td>0.788536</td>\n",
              "      <td>-0.353544</td>\n",
              "      <td>0.350068</td>\n",
              "      <td>0.217696</td>\n",
              "      <td>-0.085163</td>\n",
              "      <td>-0.262372</td>\n",
              "      <td>-0.808820</td>\n",
              "      <td>0.081616</td>\n",
              "      <td>-0.047443</td>\n",
              "      <td>0.217153</td>\n",
              "      <td>0.098680</td>\n",
              "      <td>-0.029671</td>\n",
              "      <td>0.016355</td>\n",
              "      <td>0.99</td>\n",
              "      <td>0.0</td>\n",
              "    </tr>\n",
              "    <tr>\n",
              "      <th>56634</th>\n",
              "      <td>47516.0</td>\n",
              "      <td>1.234827</td>\n",
              "      <td>0.126813</td>\n",
              "      <td>0.138718</td>\n",
              "      <td>0.521689</td>\n",
              "      <td>-0.357466</td>\n",
              "      <td>-0.612207</td>\n",
              "      <td>-0.179858</td>\n",
              "      <td>0.095893</td>\n",
              "      <td>0.145568</td>\n",
              "      <td>-0.045539</td>\n",
              "      <td>0.939857</td>\n",
              "      <td>-0.415555</td>\n",
              "      <td>-2.111124</td>\n",
              "      <td>0.348994</td>\n",
              "      <td>0.671473</td>\n",
              "      <td>0.880742</td>\n",
              "      <td>-0.245335</td>\n",
              "      <td>0.588671</td>\n",
              "      <td>0.232490</td>\n",
              "      <td>-0.206520</td>\n",
              "      <td>-0.284308</td>\n",
              "      <td>-0.968295</td>\n",
              "      <td>0.103204</td>\n",
              "      <td>-0.105746</td>\n",
              "      <td>0.152282</td>\n",
              "      <td>0.105380</td>\n",
              "      <td>-0.042472</td>\n",
              "      <td>0.012330</td>\n",
              "      <td>1.98</td>\n",
              "      <td>0.0</td>\n",
              "    </tr>\n",
              "    <tr>\n",
              "      <th>71220</th>\n",
              "      <td>54212.0</td>\n",
              "      <td>-3.460874</td>\n",
              "      <td>-1.976945</td>\n",
              "      <td>0.891303</td>\n",
              "      <td>-1.667127</td>\n",
              "      <td>1.354195</td>\n",
              "      <td>-1.852312</td>\n",
              "      <td>-0.120027</td>\n",
              "      <td>0.491002</td>\n",
              "      <td>1.254871</td>\n",
              "      <td>-1.878981</td>\n",
              "      <td>-0.713793</td>\n",
              "      <td>0.979266</td>\n",
              "      <td>-0.043558</td>\n",
              "      <td>-0.009987</td>\n",
              "      <td>-0.417119</td>\n",
              "      <td>-0.501092</td>\n",
              "      <td>-0.105720</td>\n",
              "      <td>-0.801268</td>\n",
              "      <td>-0.803396</td>\n",
              "      <td>-0.686398</td>\n",
              "      <td>-0.299373</td>\n",
              "      <td>0.029430</td>\n",
              "      <td>2.163458</td>\n",
              "      <td>0.019938</td>\n",
              "      <td>0.812740</td>\n",
              "      <td>-0.956410</td>\n",
              "      <td>0.465174</td>\n",
              "      <td>-0.157216</td>\n",
              "      <td>8.02</td>\n",
              "      <td>0.0</td>\n",
              "    </tr>\n",
              "  </tbody>\n",
              "</table>\n",
              "</div>"
            ],
            "text/plain": [
              "           Time        V1        V2  ...       V28  Amount  Class\n",
              "126256  77969.0  1.159517 -0.592162  ...  0.017396    1.00    0.0\n",
              "128717  78810.0 -0.549236 -0.285172  ...  0.117558  112.15    0.0\n",
              "111830  72387.0  1.237763  0.269825  ...  0.016355    0.99    0.0\n",
              "56634   47516.0  1.234827  0.126813  ...  0.012330    1.98    0.0\n",
              "71220   54212.0 -3.460874 -1.976945  ... -0.157216    8.02    0.0\n",
              "\n",
              "[5 rows x 31 columns]"
            ]
          },
          "metadata": {
            "tags": []
          },
          "execution_count": 20
        }
      ]
    },
    {
      "cell_type": "code",
      "metadata": {
        "colab": {
          "base_uri": "https://localhost:8080/",
          "height": 223
        },
        "id": "go8cfQggMAyS",
        "outputId": "a412dbfc-e8ea-4717-b0d1-e0417d83220c"
      },
      "source": [
        "new_dataset.tail()"
      ],
      "execution_count": 21,
      "outputs": [
        {
          "output_type": "execute_result",
          "data": {
            "text/html": [
              "<div>\n",
              "<style scoped>\n",
              "    .dataframe tbody tr th:only-of-type {\n",
              "        vertical-align: middle;\n",
              "    }\n",
              "\n",
              "    .dataframe tbody tr th {\n",
              "        vertical-align: top;\n",
              "    }\n",
              "\n",
              "    .dataframe thead th {\n",
              "        text-align: right;\n",
              "    }\n",
              "</style>\n",
              "<table border=\"1\" class=\"dataframe\">\n",
              "  <thead>\n",
              "    <tr style=\"text-align: right;\">\n",
              "      <th></th>\n",
              "      <th>Time</th>\n",
              "      <th>V1</th>\n",
              "      <th>V2</th>\n",
              "      <th>V3</th>\n",
              "      <th>V4</th>\n",
              "      <th>V5</th>\n",
              "      <th>V6</th>\n",
              "      <th>V7</th>\n",
              "      <th>V8</th>\n",
              "      <th>V9</th>\n",
              "      <th>V10</th>\n",
              "      <th>V11</th>\n",
              "      <th>V12</th>\n",
              "      <th>V13</th>\n",
              "      <th>V14</th>\n",
              "      <th>V15</th>\n",
              "      <th>V16</th>\n",
              "      <th>V17</th>\n",
              "      <th>V18</th>\n",
              "      <th>V19</th>\n",
              "      <th>V20</th>\n",
              "      <th>V21</th>\n",
              "      <th>V22</th>\n",
              "      <th>V23</th>\n",
              "      <th>V24</th>\n",
              "      <th>V25</th>\n",
              "      <th>V26</th>\n",
              "      <th>V27</th>\n",
              "      <th>V28</th>\n",
              "      <th>Amount</th>\n",
              "      <th>Class</th>\n",
              "    </tr>\n",
              "  </thead>\n",
              "  <tbody>\n",
              "    <tr>\n",
              "      <th>203324</th>\n",
              "      <td>134766.0</td>\n",
              "      <td>-0.079653</td>\n",
              "      <td>3.222010</td>\n",
              "      <td>-3.724201</td>\n",
              "      <td>6.037345</td>\n",
              "      <td>0.583395</td>\n",
              "      <td>-0.691346</td>\n",
              "      <td>-1.799885</td>\n",
              "      <td>-2.627781</td>\n",
              "      <td>-4.001338</td>\n",
              "      <td>-2.271526</td>\n",
              "      <td>1.513898</td>\n",
              "      <td>-3.682943</td>\n",
              "      <td>0.185830</td>\n",
              "      <td>-4.692788</td>\n",
              "      <td>0.247496</td>\n",
              "      <td>-2.681881</td>\n",
              "      <td>-2.286145</td>\n",
              "      <td>-1.048845</td>\n",
              "      <td>0.994830</td>\n",
              "      <td>1.198537</td>\n",
              "      <td>-0.664694</td>\n",
              "      <td>1.138556</td>\n",
              "      <td>-0.350753</td>\n",
              "      <td>-0.287467</td>\n",
              "      <td>0.808889</td>\n",
              "      <td>0.823962</td>\n",
              "      <td>0.668497</td>\n",
              "      <td>0.595610</td>\n",
              "      <td>1.00</td>\n",
              "      <td>1.0</td>\n",
              "    </tr>\n",
              "    <tr>\n",
              "      <th>203328</th>\n",
              "      <td>134769.0</td>\n",
              "      <td>-0.967767</td>\n",
              "      <td>2.098019</td>\n",
              "      <td>-5.222929</td>\n",
              "      <td>6.514573</td>\n",
              "      <td>-4.187674</td>\n",
              "      <td>2.114178</td>\n",
              "      <td>0.948701</td>\n",
              "      <td>-2.448427</td>\n",
              "      <td>-3.203666</td>\n",
              "      <td>-3.074034</td>\n",
              "      <td>1.051486</td>\n",
              "      <td>-3.474863</td>\n",
              "      <td>0.573371</td>\n",
              "      <td>-5.254253</td>\n",
              "      <td>-0.326388</td>\n",
              "      <td>-1.848598</td>\n",
              "      <td>-2.421536</td>\n",
              "      <td>-0.833345</td>\n",
              "      <td>0.952141</td>\n",
              "      <td>1.147204</td>\n",
              "      <td>-0.843268</td>\n",
              "      <td>0.796739</td>\n",
              "      <td>1.314312</td>\n",
              "      <td>-0.352887</td>\n",
              "      <td>-1.770706</td>\n",
              "      <td>0.098133</td>\n",
              "      <td>0.956769</td>\n",
              "      <td>0.162777</td>\n",
              "      <td>925.31</td>\n",
              "      <td>1.0</td>\n",
              "    </tr>\n",
              "    <tr>\n",
              "      <th>203700</th>\n",
              "      <td>134928.0</td>\n",
              "      <td>1.204934</td>\n",
              "      <td>3.238070</td>\n",
              "      <td>-6.010324</td>\n",
              "      <td>5.720847</td>\n",
              "      <td>1.548400</td>\n",
              "      <td>-2.321064</td>\n",
              "      <td>-0.781880</td>\n",
              "      <td>0.076619</td>\n",
              "      <td>-2.976249</td>\n",
              "      <td>-4.070257</td>\n",
              "      <td>3.394152</td>\n",
              "      <td>-4.547742</td>\n",
              "      <td>-0.063634</td>\n",
              "      <td>-10.516465</td>\n",
              "      <td>0.053267</td>\n",
              "      <td>0.204080</td>\n",
              "      <td>0.462929</td>\n",
              "      <td>0.841169</td>\n",
              "      <td>-2.221384</td>\n",
              "      <td>0.338161</td>\n",
              "      <td>0.098341</td>\n",
              "      <td>-0.845866</td>\n",
              "      <td>-0.031228</td>\n",
              "      <td>0.421146</td>\n",
              "      <td>0.388361</td>\n",
              "      <td>0.056035</td>\n",
              "      <td>0.491828</td>\n",
              "      <td>0.340847</td>\n",
              "      <td>0.00</td>\n",
              "      <td>1.0</td>\n",
              "    </tr>\n",
              "    <tr>\n",
              "      <th>204064</th>\n",
              "      <td>135095.0</td>\n",
              "      <td>0.232512</td>\n",
              "      <td>0.938944</td>\n",
              "      <td>-4.647780</td>\n",
              "      <td>3.079844</td>\n",
              "      <td>-1.902655</td>\n",
              "      <td>-1.041408</td>\n",
              "      <td>-1.020407</td>\n",
              "      <td>0.547069</td>\n",
              "      <td>-1.105990</td>\n",
              "      <td>-3.520128</td>\n",
              "      <td>2.074116</td>\n",
              "      <td>-3.010772</td>\n",
              "      <td>0.694978</td>\n",
              "      <td>-5.387831</td>\n",
              "      <td>1.778670</td>\n",
              "      <td>-2.935804</td>\n",
              "      <td>-2.285573</td>\n",
              "      <td>-0.237056</td>\n",
              "      <td>1.979747</td>\n",
              "      <td>1.141615</td>\n",
              "      <td>0.911373</td>\n",
              "      <td>1.042929</td>\n",
              "      <td>0.999394</td>\n",
              "      <td>0.901260</td>\n",
              "      <td>-0.452093</td>\n",
              "      <td>0.192959</td>\n",
              "      <td>0.180859</td>\n",
              "      <td>-0.029315</td>\n",
              "      <td>345.00</td>\n",
              "      <td>1.0</td>\n",
              "    </tr>\n",
              "    <tr>\n",
              "      <th>204079</th>\n",
              "      <td>135102.0</td>\n",
              "      <td>1.862102</td>\n",
              "      <td>-0.124052</td>\n",
              "      <td>-1.989752</td>\n",
              "      <td>0.382609</td>\n",
              "      <td>0.473032</td>\n",
              "      <td>-0.674517</td>\n",
              "      <td>0.298621</td>\n",
              "      <td>-0.282416</td>\n",
              "      <td>0.802053</td>\n",
              "      <td>-0.989431</td>\n",
              "      <td>-0.491112</td>\n",
              "      <td>0.903819</td>\n",
              "      <td>1.366524</td>\n",
              "      <td>-1.886162</td>\n",
              "      <td>-0.194861</td>\n",
              "      <td>0.086837</td>\n",
              "      <td>0.978546</td>\n",
              "      <td>0.055604</td>\n",
              "      <td>0.189131</td>\n",
              "      <td>0.150727</td>\n",
              "      <td>-0.204158</td>\n",
              "      <td>-0.511441</td>\n",
              "      <td>0.077874</td>\n",
              "      <td>0.388335</td>\n",
              "      <td>0.007896</td>\n",
              "      <td>-0.120980</td>\n",
              "      <td>-0.019579</td>\n",
              "      <td>0.006155</td>\n",
              "      <td>108.51</td>\n",
              "      <td>1.0</td>\n",
              "    </tr>\n",
              "  </tbody>\n",
              "</table>\n",
              "</div>"
            ],
            "text/plain": [
              "            Time        V1        V2  ...       V28  Amount  Class\n",
              "203324  134766.0 -0.079653  3.222010  ...  0.595610    1.00    1.0\n",
              "203328  134769.0 -0.967767  2.098019  ...  0.162777  925.31    1.0\n",
              "203700  134928.0  1.204934  3.238070  ...  0.340847    0.00    1.0\n",
              "204064  135095.0  0.232512  0.938944  ... -0.029315  345.00    1.0\n",
              "204079  135102.0  1.862102 -0.124052  ...  0.006155  108.51    1.0\n",
              "\n",
              "[5 rows x 31 columns]"
            ]
          },
          "metadata": {
            "tags": []
          },
          "execution_count": 21
        }
      ]
    },
    {
      "cell_type": "code",
      "metadata": {
        "colab": {
          "base_uri": "https://localhost:8080/"
        },
        "id": "_MRMPZ3eMMsi",
        "outputId": "37645577-4fc4-45df-b8f1-496a00f5b440"
      },
      "source": [
        "new_dataset['Class'].value_counts()"
      ],
      "execution_count": 22,
      "outputs": [
        {
          "output_type": "execute_result",
          "data": {
            "text/plain": [
              "1.0    392\n",
              "0.0    392\n",
              "Name: Class, dtype: int64"
            ]
          },
          "metadata": {
            "tags": []
          },
          "execution_count": 22
        }
      ]
    },
    {
      "cell_type": "code",
      "metadata": {
        "colab": {
          "base_uri": "https://localhost:8080/",
          "height": 162
        },
        "id": "uCjJq-NIMh8T",
        "outputId": "e54d9ffd-aef0-4ae4-eedf-69edf3d93b19"
      },
      "source": [
        "new_dataset.groupby('Class').mean()"
      ],
      "execution_count": 23,
      "outputs": [
        {
          "output_type": "execute_result",
          "data": {
            "text/html": [
              "<div>\n",
              "<style scoped>\n",
              "    .dataframe tbody tr th:only-of-type {\n",
              "        vertical-align: middle;\n",
              "    }\n",
              "\n",
              "    .dataframe tbody tr th {\n",
              "        vertical-align: top;\n",
              "    }\n",
              "\n",
              "    .dataframe thead th {\n",
              "        text-align: right;\n",
              "    }\n",
              "</style>\n",
              "<table border=\"1\" class=\"dataframe\">\n",
              "  <thead>\n",
              "    <tr style=\"text-align: right;\">\n",
              "      <th></th>\n",
              "      <th>Time</th>\n",
              "      <th>V1</th>\n",
              "      <th>V2</th>\n",
              "      <th>V3</th>\n",
              "      <th>V4</th>\n",
              "      <th>V5</th>\n",
              "      <th>V6</th>\n",
              "      <th>V7</th>\n",
              "      <th>V8</th>\n",
              "      <th>V9</th>\n",
              "      <th>V10</th>\n",
              "      <th>V11</th>\n",
              "      <th>V12</th>\n",
              "      <th>V13</th>\n",
              "      <th>V14</th>\n",
              "      <th>V15</th>\n",
              "      <th>V16</th>\n",
              "      <th>V17</th>\n",
              "      <th>V18</th>\n",
              "      <th>V19</th>\n",
              "      <th>V20</th>\n",
              "      <th>V21</th>\n",
              "      <th>V22</th>\n",
              "      <th>V23</th>\n",
              "      <th>V24</th>\n",
              "      <th>V25</th>\n",
              "      <th>V26</th>\n",
              "      <th>V27</th>\n",
              "      <th>V28</th>\n",
              "      <th>Amount</th>\n",
              "    </tr>\n",
              "    <tr>\n",
              "      <th>Class</th>\n",
              "      <th></th>\n",
              "      <th></th>\n",
              "      <th></th>\n",
              "      <th></th>\n",
              "      <th></th>\n",
              "      <th></th>\n",
              "      <th></th>\n",
              "      <th></th>\n",
              "      <th></th>\n",
              "      <th></th>\n",
              "      <th></th>\n",
              "      <th></th>\n",
              "      <th></th>\n",
              "      <th></th>\n",
              "      <th></th>\n",
              "      <th></th>\n",
              "      <th></th>\n",
              "      <th></th>\n",
              "      <th></th>\n",
              "      <th></th>\n",
              "      <th></th>\n",
              "      <th></th>\n",
              "      <th></th>\n",
              "      <th></th>\n",
              "      <th></th>\n",
              "      <th></th>\n",
              "      <th></th>\n",
              "      <th></th>\n",
              "      <th></th>\n",
              "      <th></th>\n",
              "    </tr>\n",
              "  </thead>\n",
              "  <tbody>\n",
              "    <tr>\n",
              "      <th>0.0</th>\n",
              "      <td>69224.790816</td>\n",
              "      <td>-0.192116</td>\n",
              "      <td>-0.038772</td>\n",
              "      <td>0.327767</td>\n",
              "      <td>-0.007400</td>\n",
              "      <td>-0.147280</td>\n",
              "      <td>0.110469</td>\n",
              "      <td>-0.012701</td>\n",
              "      <td>0.028971</td>\n",
              "      <td>-0.085926</td>\n",
              "      <td>-0.027335</td>\n",
              "      <td>0.043256</td>\n",
              "      <td>-0.120712</td>\n",
              "      <td>0.054312</td>\n",
              "      <td>0.080387</td>\n",
              "      <td>0.131699</td>\n",
              "      <td>-0.039281</td>\n",
              "      <td>0.101453</td>\n",
              "      <td>0.011762</td>\n",
              "      <td>0.035249</td>\n",
              "      <td>0.047126</td>\n",
              "      <td>0.044289</td>\n",
              "      <td>-0.088411</td>\n",
              "      <td>0.002564</td>\n",
              "      <td>0.027637</td>\n",
              "      <td>0.023093</td>\n",
              "      <td>0.009403</td>\n",
              "      <td>-0.028386</td>\n",
              "      <td>-0.002445</td>\n",
              "      <td>112.870332</td>\n",
              "    </tr>\n",
              "    <tr>\n",
              "      <th>1.0</th>\n",
              "      <td>62596.510204</td>\n",
              "      <td>-5.586024</td>\n",
              "      <td>4.158763</td>\n",
              "      <td>-7.671289</td>\n",
              "      <td>4.751863</td>\n",
              "      <td>-4.024293</td>\n",
              "      <td>-1.396896</td>\n",
              "      <td>-6.519177</td>\n",
              "      <td>0.663336</td>\n",
              "      <td>-2.750902</td>\n",
              "      <td>-6.307027</td>\n",
              "      <td>4.138086</td>\n",
              "      <td>-6.886016</td>\n",
              "      <td>-0.025374</td>\n",
              "      <td>-7.140525</td>\n",
              "      <td>-0.087760</td>\n",
              "      <td>-4.661489</td>\n",
              "      <td>-7.628649</td>\n",
              "      <td>-2.666997</td>\n",
              "      <td>0.770997</td>\n",
              "      <td>0.395749</td>\n",
              "      <td>0.777634</td>\n",
              "      <td>-0.016690</td>\n",
              "      <td>-0.047536</td>\n",
              "      <td>-0.065304</td>\n",
              "      <td>0.066588</td>\n",
              "      <td>0.038878</td>\n",
              "      <td>0.181626</td>\n",
              "      <td>0.059742</td>\n",
              "      <td>123.485765</td>\n",
              "    </tr>\n",
              "  </tbody>\n",
              "</table>\n",
              "</div>"
            ],
            "text/plain": [
              "               Time        V1        V2  ...       V27       V28      Amount\n",
              "Class                                    ...                                \n",
              "0.0    69224.790816 -0.192116 -0.038772  ... -0.028386 -0.002445  112.870332\n",
              "1.0    62596.510204 -5.586024  4.158763  ...  0.181626  0.059742  123.485765\n",
              "\n",
              "[2 rows x 30 columns]"
            ]
          },
          "metadata": {
            "tags": []
          },
          "execution_count": 23
        }
      ]
    },
    {
      "cell_type": "markdown",
      "metadata": {
        "id": "qwMrkuwGNL0J"
      },
      "source": [
        "splitting the data into features and target"
      ]
    },
    {
      "cell_type": "code",
      "metadata": {
        "id": "HaD_PddwM3_9"
      },
      "source": [
        "X =new_dataset.drop(columns='Class', axis=1)\n",
        "Y= new_dataset['Class']"
      ],
      "execution_count": 24,
      "outputs": []
    },
    {
      "cell_type": "code",
      "metadata": {
        "colab": {
          "base_uri": "https://localhost:8080/"
        },
        "id": "DJy0y3mNN0Im",
        "outputId": "87ce9a22-e8b6-4a80-bce0-fab76fa1ef5b"
      },
      "source": [
        "print(X)"
      ],
      "execution_count": 25,
      "outputs": [
        {
          "output_type": "stream",
          "text": [
            "            Time        V1        V2  ...       V27       V28  Amount\n",
            "126256   77969.0  1.159517 -0.592162  ...  0.093276  0.017396    1.00\n",
            "128717   78810.0 -0.549236 -0.285172  ... -0.026068  0.117558  112.15\n",
            "111830   72387.0  1.237763  0.269825  ... -0.029671  0.016355    0.99\n",
            "56634    47516.0  1.234827  0.126813  ... -0.042472  0.012330    1.98\n",
            "71220    54212.0 -3.460874 -1.976945  ...  0.465174 -0.157216    8.02\n",
            "...          ...       ...       ...  ...       ...       ...     ...\n",
            "203324  134766.0 -0.079653  3.222010  ...  0.668497  0.595610    1.00\n",
            "203328  134769.0 -0.967767  2.098019  ...  0.956769  0.162777  925.31\n",
            "203700  134928.0  1.204934  3.238070  ...  0.491828  0.340847    0.00\n",
            "204064  135095.0  0.232512  0.938944  ...  0.180859 -0.029315  345.00\n",
            "204079  135102.0  1.862102 -0.124052  ... -0.019579  0.006155  108.51\n",
            "\n",
            "[784 rows x 30 columns]\n"
          ],
          "name": "stdout"
        }
      ]
    },
    {
      "cell_type": "code",
      "metadata": {
        "colab": {
          "base_uri": "https://localhost:8080/"
        },
        "id": "jfh9lo_7N2mj",
        "outputId": "d60f3685-277b-4200-ec85-c27845a5c9ed"
      },
      "source": [
        "print(Y)"
      ],
      "execution_count": 26,
      "outputs": [
        {
          "output_type": "stream",
          "text": [
            "126256    0.0\n",
            "128717    0.0\n",
            "111830    0.0\n",
            "56634     0.0\n",
            "71220     0.0\n",
            "         ... \n",
            "203324    1.0\n",
            "203328    1.0\n",
            "203700    1.0\n",
            "204064    1.0\n",
            "204079    1.0\n",
            "Name: Class, Length: 784, dtype: float64\n"
          ],
          "name": "stdout"
        }
      ]
    },
    {
      "cell_type": "markdown",
      "metadata": {
        "id": "GNw4-N7GOJzA"
      },
      "source": [
        "Splitting the data into training data and testing data"
      ]
    },
    {
      "cell_type": "code",
      "metadata": {
        "id": "paN9_egYN_-Q"
      },
      "source": [
        "X_train, X_test, Y_train, Y_test =train_test_split(X,Y,test_size=0.2,stratify=Y,random_state=2)"
      ],
      "execution_count": 27,
      "outputs": []
    },
    {
      "cell_type": "code",
      "metadata": {
        "colab": {
          "base_uri": "https://localhost:8080/"
        },
        "id": "qhZipD-oPp9m",
        "outputId": "5ed06c75-4b10-4057-cd09-17a7582ab7fe"
      },
      "source": [
        "print(X.shape, X_train.shape, X_test.shape)"
      ],
      "execution_count": 28,
      "outputs": [
        {
          "output_type": "stream",
          "text": [
            "(784, 30) (627, 30) (157, 30)\n"
          ],
          "name": "stdout"
        }
      ]
    },
    {
      "cell_type": "markdown",
      "metadata": {
        "id": "w9mwDZ1cQAG_"
      },
      "source": [
        "Model Training\n",
        "Logistic Regression"
      ]
    },
    {
      "cell_type": "code",
      "metadata": {
        "id": "iPRWdhyaPyEN"
      },
      "source": [
        "model =LogisticRegression()"
      ],
      "execution_count": 29,
      "outputs": []
    },
    {
      "cell_type": "code",
      "metadata": {
        "colab": {
          "base_uri": "https://localhost:8080/"
        },
        "id": "w04YJU_OQZHR",
        "outputId": "31f9e10d-3ca9-43da-ffe1-d1297ee22d31"
      },
      "source": [
        "# training the logistic regression model with training data\n",
        "model.fit(X_train, Y_train)"
      ],
      "execution_count": 31,
      "outputs": [
        {
          "output_type": "execute_result",
          "data": {
            "text/plain": [
              "LogisticRegression(C=1.0, class_weight=None, dual=False, fit_intercept=True,\n",
              "                   intercept_scaling=1, l1_ratio=None, max_iter=100,\n",
              "                   multi_class='auto', n_jobs=None, penalty='l2',\n",
              "                   random_state=None, solver='lbfgs', tol=0.0001, verbose=0,\n",
              "                   warm_start=False)"
            ]
          },
          "metadata": {
            "tags": []
          },
          "execution_count": 31
        }
      ]
    },
    {
      "cell_type": "markdown",
      "metadata": {
        "id": "GGhHZmRQRSQG"
      },
      "source": [
        "Evaluation"
      ]
    },
    {
      "cell_type": "markdown",
      "metadata": {
        "id": "NiuiqtfpRWK9"
      },
      "source": [
        "Accuracy score"
      ]
    },
    {
      "cell_type": "code",
      "metadata": {
        "id": "EAvOvSv_Q5_D"
      },
      "source": [
        "#accuracy on training data\n",
        "X_train_prediction= model.predict(X_train)\n",
        "training_data_accuracy= accuracy_score(X_train_prediction, Y_train)"
      ],
      "execution_count": 34,
      "outputs": []
    },
    {
      "cell_type": "code",
      "metadata": {
        "colab": {
          "base_uri": "https://localhost:8080/"
        },
        "id": "8hYmiPUMSR2N",
        "outputId": "cfb826f7-7e76-4bb1-a1d3-a5d948d756d7"
      },
      "source": [
        "print('Accuracy on training data: ',training_data_accuracy)"
      ],
      "execution_count": 35,
      "outputs": [
        {
          "output_type": "stream",
          "text": [
            "Accuracy on training data:  0.94896331738437\n"
          ],
          "name": "stdout"
        }
      ]
    },
    {
      "cell_type": "code",
      "metadata": {
        "id": "v8z8qMU9ScpM"
      },
      "source": [
        "#accuracy on test data\n",
        "X_test_prediction= model.predict(X_test)\n",
        "testing_data_accuracy= accuracy_score(X_test_prediction, Y_test)"
      ],
      "execution_count": 36,
      "outputs": []
    },
    {
      "cell_type": "code",
      "metadata": {
        "colab": {
          "base_uri": "https://localhost:8080/"
        },
        "id": "AZJkvAL6TSJH",
        "outputId": "b7808072-26be-4bc9-eb3f-9704172081c5"
      },
      "source": [
        "print('Accuracy score on test data: ',testing_data_accuracy)"
      ],
      "execution_count": 37,
      "outputs": [
        {
          "output_type": "stream",
          "text": [
            "Accuracy score on test data:  0.9299363057324841\n"
          ],
          "name": "stdout"
        }
      ]
    },
    {
      "cell_type": "code",
      "metadata": {
        "id": "15CL7AKZTbqt"
      },
      "source": [
        ""
      ],
      "execution_count": null,
      "outputs": []
    }
  ]
}